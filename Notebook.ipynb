{
  "nbformat": 4,
  "nbformat_minor": 0,
  "metadata": {
    "colab": {
      "name": "Preparacao_Aula.ipynb",
      "provenance": [],
      "authorship_tag": "ABX9TyONFHuJ5ibCdVQjGN1sPuD0",
      "include_colab_link": true
    },
    "kernelspec": {
      "name": "python3",
      "display_name": "Python 3"
    },
    "language_info": {
      "name": "python"
    }
  },
  "cells": [
    {
      "cell_type": "markdown",
      "metadata": {
        "id": "view-in-github",
        "colab_type": "text"
      },
      "source": [
        "<a href=\"https://colab.research.google.com/github/EduardoJM/minicurso_ISEQ_UFPB/blob/main/Notebook.ipynb\" target=\"_parent\"><img src=\"https://colab.research.google.com/assets/colab-badge.svg\" alt=\"Open In Colab\"/></a>"
      ]
    },
    {
      "cell_type": "markdown",
      "metadata": {
        "id": "VvTyoJCI0tfS"
      },
      "source": [
        "# Introdução a Programação e a Visualização de Dados\n",
        "\n",
        "## 1 Objetivos\n",
        "\n",
        "- Contextualizar o termo **programação** nos dias atuais.\n",
        "- Fazer uma introdução sobre programação utilizando Python (**Notebooks**).\n",
        "- Mostrar conceitos básicos da linguagem.\n",
        "- Mostrar exemplos práticos com a visualização de dados."
      ]
    },
    {
      "cell_type": "markdown",
      "metadata": {
        "id": "TTKuWdxw1HVZ"
      },
      "source": [
        "## 2 Introdução a Programação com Python"
      ]
    },
    {
      "cell_type": "code",
      "metadata": {
        "id": "auqc4K0T6Jjo"
      },
      "source": [
        "# linhas começadas com # são comentários."
      ],
      "execution_count": 1,
      "outputs": []
    },
    {
      "cell_type": "code",
      "metadata": {
        "id": "adUgqfg36uj8"
      },
      "source": [
        "# variaveis\n",
        "# nome = valor\n",
        "a = 10"
      ],
      "execution_count": 2,
      "outputs": []
    },
    {
      "cell_type": "code",
      "metadata": {
        "colab": {
          "base_uri": "https://localhost:8080/"
        },
        "id": "B6Vu_cIJ62MS",
        "outputId": "f351b08d-5c0d-4e8d-fca9-9b99adb7f658"
      },
      "source": [
        "# entrada/saída de dados\n",
        "\n",
        "# entrada\n",
        "idade = input(\"Digite sua idade:\")\n",
        "# saída\n",
        "print(\"Sua idade é: \", idade)"
      ],
      "execution_count": 3,
      "outputs": [
        {
          "output_type": "stream",
          "text": [
            "Digite sua idade:10\n",
            "Sua idade é:  10\n"
          ],
          "name": "stdout"
        }
      ]
    },
    {
      "cell_type": "markdown",
      "metadata": {
        "id": "jmbXJxk_1ndc"
      },
      "source": [
        "### 2.1 Tipos Básicos de Dados\n",
        "\n",
        "Os tipos básicos de dados da linguagem Python são: **bool**, **float**, **int**, **complex**, **str**. Veja abaixo o que são cada um deles:"
      ]
    },
    {
      "cell_type": "markdown",
      "metadata": {
        "id": "6ARPkJd-ba7j"
      },
      "source": [
        "#### 2.1.1 bool\n",
        "\n",
        "Valores booleanos (abreviando, em inglês, **bool**) são valores **binários** que representam verdadeiro ou falso (**True** ou **False**, em inglês)."
      ]
    },
    {
      "cell_type": "code",
      "metadata": {
        "colab": {
          "base_uri": "https://localhost:8080/"
        },
        "id": "BRmhFA9nbftY",
        "outputId": "989d2c94-e4ed-4f52-8c5b-9a13072b1ab7"
      },
      "source": [
        "sim = True\n",
        "nao = False\n",
        "print(sim)\n",
        "print(nao)"
      ],
      "execution_count": 4,
      "outputs": [
        {
          "output_type": "stream",
          "text": [
            "True\n",
            "False\n"
          ],
          "name": "stdout"
        }
      ]
    },
    {
      "cell_type": "code",
      "metadata": {
        "colab": {
          "base_uri": "https://localhost:8080/"
        },
        "id": "PXgHxJXqbzAU",
        "outputId": "6e5b47b1-63ab-4f78-999e-45ed5f77bce4"
      },
      "source": [
        "print(type(sim))"
      ],
      "execution_count": 5,
      "outputs": [
        {
          "output_type": "stream",
          "text": [
            "<class 'bool'>\n"
          ],
          "name": "stdout"
        }
      ]
    },
    {
      "cell_type": "markdown",
      "metadata": {
        "id": "fJ_PGDfGb6cL"
      },
      "source": [
        "#### 2.1.2 float\n",
        "\n",
        "São números de **ponto flutuante**, ou melhor dizendo, são número que se apresentam como números quebrados (com casas decimais)."
      ]
    },
    {
      "cell_type": "code",
      "metadata": {
        "colab": {
          "base_uri": "https://localhost:8080/"
        },
        "id": "OY5Q6jIjcMR7",
        "outputId": "a039692f-06e1-40e3-8535-cdc7efc9ab5d"
      },
      "source": [
        "a = 3.1415169\n",
        "print(a)"
      ],
      "execution_count": 6,
      "outputs": [
        {
          "output_type": "stream",
          "text": [
            "3.1415169\n"
          ],
          "name": "stdout"
        }
      ]
    },
    {
      "cell_type": "code",
      "metadata": {
        "colab": {
          "base_uri": "https://localhost:8080/"
        },
        "id": "dPAvnQRxcPw0",
        "outputId": "dbdf51c9-7dfe-4137-9c51-6554b57cfe92"
      },
      "source": [
        "print(type(a))"
      ],
      "execution_count": 7,
      "outputs": [
        {
          "output_type": "stream",
          "text": [
            "<class 'float'>\n"
          ],
          "name": "stdout"
        }
      ]
    },
    {
      "cell_type": "code",
      "metadata": {
        "colab": {
          "base_uri": "https://localhost:8080/"
        },
        "id": "o-ZbjI1tcT6h",
        "outputId": "5ea90e56-b8b1-435a-9a3b-04604a7454f5"
      },
      "source": [
        "# comparando números float e inteiros\n",
        "b = 10.0\n",
        "print(b)\n",
        "print(type(b))\n",
        "c = 10\n",
        "print(c)\n",
        "print(type(c))\n",
        "print(b == c)\n",
        "print(b is c)"
      ],
      "execution_count": 8,
      "outputs": [
        {
          "output_type": "stream",
          "text": [
            "10.0\n",
            "<class 'float'>\n",
            "10\n",
            "<class 'int'>\n",
            "True\n",
            "False\n"
          ],
          "name": "stdout"
        }
      ]
    },
    {
      "cell_type": "markdown",
      "metadata": {
        "id": "DmYwj0XLclm1"
      },
      "source": [
        "#### 2.1.3 int\n",
        "\n",
        "São números inteiros."
      ]
    },
    {
      "cell_type": "code",
      "metadata": {
        "colab": {
          "base_uri": "https://localhost:8080/"
        },
        "id": "37yt5DbAcUBd",
        "outputId": "165b103a-49d1-4823-f4ab-0b939271ae17"
      },
      "source": [
        "n = 10\n",
        "print(10)\n",
        "print(type(n))"
      ],
      "execution_count": 9,
      "outputs": [
        {
          "output_type": "stream",
          "text": [
            "10\n",
            "<class 'int'>\n"
          ],
          "name": "stdout"
        }
      ]
    },
    {
      "cell_type": "markdown",
      "metadata": {
        "id": "5GobNRvScw_V"
      },
      "source": [
        "#### 2.1.4 complex\n",
        "\n",
        "São números complexos."
      ]
    },
    {
      "cell_type": "code",
      "metadata": {
        "colab": {
          "base_uri": "https://localhost:8080/"
        },
        "id": "hLQSYnusc4QQ",
        "outputId": "ecc54842-817e-4612-a54d-37de104bc761"
      },
      "source": [
        "comp = 5 + 2j\n",
        "print(comp)\n",
        "print(type(comp))"
      ],
      "execution_count": 10,
      "outputs": [
        {
          "output_type": "stream",
          "text": [
            "(5+2j)\n",
            "<class 'complex'>\n"
          ],
          "name": "stdout"
        }
      ]
    },
    {
      "cell_type": "markdown",
      "metadata": {
        "id": "e_GrJbx9dDS2"
      },
      "source": [
        "#### 2.1.5 str\n",
        "\n",
        "São strings (ou textos, de forma leiga)."
      ]
    },
    {
      "cell_type": "code",
      "metadata": {
        "colab": {
          "base_uri": "https://localhost:8080/"
        },
        "id": "nCf7BUEo1pp8",
        "outputId": "e2a636ee-857e-4e3f-93dd-957303898ff0"
      },
      "source": [
        "# texto (strings)\n",
        "exemplo_nome = \"Meu nome é Eduardo\"\n",
        "print(exemplo_nome)\n",
        "print(type(exemplo_nome))"
      ],
      "execution_count": 11,
      "outputs": [
        {
          "output_type": "stream",
          "text": [
            "Meu nome é Eduardo\n",
            "<class 'str'>\n"
          ],
          "name": "stdout"
        }
      ]
    },
    {
      "cell_type": "markdown",
      "metadata": {
        "id": "QJuDBz2Vd__m"
      },
      "source": [
        "### 2.2 Alguns outros tipos de dados\n",
        "\n",
        "Além dos tipos básicos de dados, existem vários outros tipos de dados na linguagem Python. Apenas alguns deles, aqueles que provavelmente utilizaremos aqui, serão mostrados: **list** **dict**."
      ]
    },
    {
      "cell_type": "markdown",
      "metadata": {
        "id": "rIPPCP2jeVgW"
      },
      "source": [
        "#### 2.2.1 list\n",
        "\n",
        "É uma lista de dados organizadas dentro de colchetes. Perceba que é uma lista e não um conjunto, portanto, os itens podem se repetir. Existe, entretanto, um tipo de dado que não foi mostrado na aula que se chama **set** (conjunto em inglês) e que se comporta exatamente como um conjunto."
      ]
    },
    {
      "cell_type": "code",
      "metadata": {
        "colab": {
          "base_uri": "https://localhost:8080/"
        },
        "id": "jRxu0yW4eUz6",
        "outputId": "773e085a-2dca-48bb-bedc-0e9cbded44ea"
      },
      "source": [
        "lista = [1, 2, 3, 4, 5]\n",
        "print(lista)\n",
        "print(type(lista))"
      ],
      "execution_count": 12,
      "outputs": [
        {
          "output_type": "stream",
          "text": [
            "[1, 2, 3, 4, 5]\n",
            "<class 'list'>\n"
          ],
          "name": "stdout"
        }
      ]
    },
    {
      "cell_type": "code",
      "metadata": {
        "colab": {
          "base_uri": "https://localhost:8080/"
        },
        "id": "OK5_xlTsfDP6",
        "outputId": "5a6be647-19be-4021-f8a2-bbeda391ecf2"
      },
      "source": [
        "lista[0]"
      ],
      "execution_count": 13,
      "outputs": [
        {
          "output_type": "execute_result",
          "data": {
            "text/plain": [
              "1"
            ]
          },
          "metadata": {},
          "execution_count": 13
        }
      ]
    },
    {
      "cell_type": "code",
      "metadata": {
        "colab": {
          "base_uri": "https://localhost:8080/"
        },
        "id": "vaCDKqR8ygLq",
        "outputId": "0bee170f-96b2-40dd-c560-66fa269e8914"
      },
      "source": [
        "lista[3]"
      ],
      "execution_count": 14,
      "outputs": [
        {
          "output_type": "execute_result",
          "data": {
            "text/plain": [
              "4"
            ]
          },
          "metadata": {},
          "execution_count": 14
        }
      ]
    },
    {
      "cell_type": "markdown",
      "metadata": {
        "id": "xcv6F2Reyr-H"
      },
      "source": [
        "##### Leituras Recomendadas\n",
        "\n",
        "- https://introducao-a-python-pyladies-brasil.netlify.app/capitulo_5/listas.html"
      ]
    },
    {
      "cell_type": "markdown",
      "metadata": {
        "id": "UCZBACsVyvkX"
      },
      "source": [
        "#### 2.2.2 dict\n",
        "\n",
        "É um \"dicionário\" chave-valor onde é possível atribuir propriedades (para cada chave, atribui-se um valor)."
      ]
    },
    {
      "cell_type": "code",
      "metadata": {
        "id": "emj2B1pGy6Lq"
      },
      "source": [
        "dicionario = {\n",
        "    \"nome\": \"Eduardo\",\n",
        "    \"idade\": 24\n",
        "}"
      ],
      "execution_count": 15,
      "outputs": []
    },
    {
      "cell_type": "code",
      "metadata": {
        "colab": {
          "base_uri": "https://localhost:8080/"
        },
        "id": "I4xbsO3QzGRb",
        "outputId": "f3bc498a-fd5f-4200-dbe0-4086577e21a3"
      },
      "source": [
        "print(dicionario)"
      ],
      "execution_count": 16,
      "outputs": [
        {
          "output_type": "stream",
          "text": [
            "{'nome': 'Eduardo', 'idade': 24}\n"
          ],
          "name": "stdout"
        }
      ]
    },
    {
      "cell_type": "code",
      "metadata": {
        "colab": {
          "base_uri": "https://localhost:8080/"
        },
        "id": "tMTpeNjdzJgk",
        "outputId": "4d49af67-ed14-4d84-8e11-1884dc543b0d"
      },
      "source": [
        "print(type(dicionario))"
      ],
      "execution_count": 17,
      "outputs": [
        {
          "output_type": "stream",
          "text": [
            "<class 'dict'>\n"
          ],
          "name": "stdout"
        }
      ]
    },
    {
      "cell_type": "code",
      "metadata": {
        "colab": {
          "base_uri": "https://localhost:8080/",
          "height": 35
        },
        "id": "gCWVRfLSzKW7",
        "outputId": "13395284-5710-46af-a971-4c0adbf88cca"
      },
      "source": [
        "dicionario[\"nome\"]"
      ],
      "execution_count": 18,
      "outputs": [
        {
          "output_type": "execute_result",
          "data": {
            "application/vnd.google.colaboratory.intrinsic+json": {
              "type": "string"
            },
            "text/plain": [
              "'Eduardo'"
            ]
          },
          "metadata": {},
          "execution_count": 18
        }
      ]
    },
    {
      "cell_type": "markdown",
      "metadata": {
        "id": "u371Z63DzQOC"
      },
      "source": [
        "### 2.3 Operadores Aritméticos\n",
        "\n",
        "Operadores de adição (+), subtração (-), divisão (/), divisão inteira (//), resto da divisão (%), multiplicação (\\*), potência (\\*\\*)...\n"
      ]
    },
    {
      "cell_type": "code",
      "metadata": {
        "colab": {
          "base_uri": "https://localhost:8080/"
        },
        "id": "ZwFoMKjVzZV7",
        "outputId": "afcd3abc-2fa4-4273-aecf-2c610f2658ae"
      },
      "source": [
        "# 10 mais 5\n",
        "print(10 + 5)"
      ],
      "execution_count": 19,
      "outputs": [
        {
          "output_type": "stream",
          "text": [
            "15\n"
          ],
          "name": "stdout"
        }
      ]
    },
    {
      "cell_type": "code",
      "metadata": {
        "colab": {
          "base_uri": "https://localhost:8080/"
        },
        "id": "KE4pOGU406Hh",
        "outputId": "ad1ce2fa-aa6b-4ed8-e42d-37402748573d"
      },
      "source": [
        "# 10 menus 5\n",
        "print(10 - 5)"
      ],
      "execution_count": 20,
      "outputs": [
        {
          "output_type": "stream",
          "text": [
            "5\n"
          ],
          "name": "stdout"
        }
      ]
    },
    {
      "cell_type": "code",
      "metadata": {
        "colab": {
          "base_uri": "https://localhost:8080/"
        },
        "id": "YRHPIrqs07JH",
        "outputId": "1435fb84-c18c-4f19-d724-5969f712bf31"
      },
      "source": [
        "# 10.5 dividido por 2\n",
        "print(10.5 / 2)"
      ],
      "execution_count": 21,
      "outputs": [
        {
          "output_type": "stream",
          "text": [
            "5.25\n"
          ],
          "name": "stdout"
        }
      ]
    },
    {
      "cell_type": "code",
      "metadata": {
        "colab": {
          "base_uri": "https://localhost:8080/"
        },
        "id": "fuAf_xgi08V3",
        "outputId": "86c6650a-bf3f-4934-8de4-e1907c438c00"
      },
      "source": [
        "# o complexo (6 + 2j) dividido por 2\n",
        "a = 6 + 2j\n",
        "print(a / 2)"
      ],
      "execution_count": 22,
      "outputs": [
        {
          "output_type": "stream",
          "text": [
            "(3+1j)\n"
          ],
          "name": "stdout"
        }
      ]
    },
    {
      "cell_type": "code",
      "metadata": {
        "colab": {
          "base_uri": "https://localhost:8080/"
        },
        "id": "KOgQKJHa2ThU",
        "outputId": "d13c11e4-920f-40bb-93b7-80bcb2178ec5"
      },
      "source": [
        "# 2 elevado a potência 3\n",
        "print(2 ** 3)"
      ],
      "execution_count": 23,
      "outputs": [
        {
          "output_type": "stream",
          "text": [
            "8\n"
          ],
          "name": "stdout"
        }
      ]
    },
    {
      "cell_type": "code",
      "metadata": {
        "colab": {
          "base_uri": "https://localhost:8080/"
        },
        "id": "Nz42gcK12Vy3",
        "outputId": "abacdfe3-f3a9-4bb3-a167-b5c6ff255a05"
      },
      "source": [
        "# resto da divisão de 3 por 2\n",
        "print(3 % 2)"
      ],
      "execution_count": 24,
      "outputs": [
        {
          "output_type": "stream",
          "text": [
            "1\n"
          ],
          "name": "stdout"
        }
      ]
    },
    {
      "cell_type": "code",
      "metadata": {
        "colab": {
          "base_uri": "https://localhost:8080/"
        },
        "id": "tlnjPbba2l-o",
        "outputId": "726f7634-ecb2-4293-a5b0-e56f145a85fa"
      },
      "source": [
        "# parte inteira da divisão de 3 por 2\n",
        "print(3 // 2)"
      ],
      "execution_count": 25,
      "outputs": [
        {
          "output_type": "stream",
          "text": [
            "1\n"
          ],
          "name": "stdout"
        }
      ]
    },
    {
      "cell_type": "markdown",
      "metadata": {
        "id": "2RKZHR6v1FpN"
      },
      "source": [
        "#### Leituras Recomendadas\n",
        "\n",
        "- https://introducao-a-python-pyladies-brasil.netlify.app/capitulo_1/operadores_aritmeticos.html"
      ]
    },
    {
      "cell_type": "markdown",
      "metadata": {
        "id": "bx16kSli2uYX"
      },
      "source": [
        "### 2.4 Operadores Relacionais\n",
        "\n",
        "São operadores de relação entre dois valores (igualdade ou desigualdade)"
      ]
    },
    {
      "cell_type": "code",
      "metadata": {
        "colab": {
          "base_uri": "https://localhost:8080/"
        },
        "id": "nUc-sskR25jT",
        "outputId": "f30af6ef-3536-4411-b643-34a666c33524"
      },
      "source": [
        "# maior que\n",
        "print(3 > 2)\n",
        "print(2 > 3)"
      ],
      "execution_count": 26,
      "outputs": [
        {
          "output_type": "stream",
          "text": [
            "True\n",
            "False\n"
          ],
          "name": "stdout"
        }
      ]
    },
    {
      "cell_type": "code",
      "metadata": {
        "colab": {
          "base_uri": "https://localhost:8080/"
        },
        "id": "uxxj81le3obZ",
        "outputId": "e78d4b53-62bc-44b0-9449-509f9f143fd1"
      },
      "source": [
        "# menor que\n",
        "print(3 < 2)\n",
        "print(2 < 3)"
      ],
      "execution_count": 27,
      "outputs": [
        {
          "output_type": "stream",
          "text": [
            "False\n",
            "True\n"
          ],
          "name": "stdout"
        }
      ]
    },
    {
      "cell_type": "code",
      "metadata": {
        "colab": {
          "base_uri": "https://localhost:8080/"
        },
        "id": "eqUHiGXl3rdd",
        "outputId": "8d571d96-c1f3-4236-fd3f-341d20cf97ab"
      },
      "source": [
        "# maior que ou igual a\n",
        "print(3 >= 3)\n",
        "print(3 > 3)"
      ],
      "execution_count": 28,
      "outputs": [
        {
          "output_type": "stream",
          "text": [
            "True\n",
            "False\n"
          ],
          "name": "stdout"
        }
      ]
    },
    {
      "cell_type": "code",
      "metadata": {
        "colab": {
          "base_uri": "https://localhost:8080/"
        },
        "id": "YbgxjyMZ3v71",
        "outputId": "29d3aaf1-5289-42d4-d03e-0b2b3e369a32"
      },
      "source": [
        "# menor que ou igual a\n",
        "print(3 <= 3)\n",
        "print(3 < 3)"
      ],
      "execution_count": 29,
      "outputs": [
        {
          "output_type": "stream",
          "text": [
            "True\n",
            "False\n"
          ],
          "name": "stdout"
        }
      ]
    },
    {
      "cell_type": "code",
      "metadata": {
        "colab": {
          "base_uri": "https://localhost:8080/"
        },
        "id": "ECZEDA1l3zs-",
        "outputId": "caf3d35d-2082-4499-fb8a-788bbde26c41"
      },
      "source": [
        "# igualdade / diferença\n",
        "print(3 == 3)\n",
        "print(3 != 3)"
      ],
      "execution_count": 30,
      "outputs": [
        {
          "output_type": "stream",
          "text": [
            "True\n",
            "False\n"
          ],
          "name": "stdout"
        }
      ]
    },
    {
      "cell_type": "code",
      "metadata": {
        "colab": {
          "base_uri": "https://localhost:8080/"
        },
        "id": "CLagTCKw5tVT",
        "outputId": "4c51ee67-0944-492f-eaef-089d0b19db00"
      },
      "source": [
        "print(3 != 2)\n",
        "print(4 == 2)"
      ],
      "execution_count": 31,
      "outputs": [
        {
          "output_type": "stream",
          "text": [
            "True\n",
            "False\n"
          ],
          "name": "stdout"
        }
      ]
    },
    {
      "cell_type": "markdown",
      "metadata": {
        "id": "PYrqKyTW530A"
      },
      "source": [
        "### 2.5 Funções"
      ]
    },
    {
      "cell_type": "code",
      "metadata": {
        "colab": {
          "base_uri": "https://localhost:8080/"
        },
        "id": "se8AvS4n57bS",
        "outputId": "7071fdbe-2d52-4372-dd7b-6a4de43fc6b6"
      },
      "source": [
        "# Pense, por exemplo, no código abaixo\n",
        "x = 2\n",
        "y = x * x + 5\n",
        "z = x + y\n",
        "print(z)"
      ],
      "execution_count": 32,
      "outputs": [
        {
          "output_type": "stream",
          "text": [
            "11\n"
          ],
          "name": "stdout"
        }
      ]
    },
    {
      "cell_type": "code",
      "metadata": {
        "colab": {
          "base_uri": "https://localhost:8080/"
        },
        "id": "MUBWl5a06EsD",
        "outputId": "4d424074-314c-4854-883a-f80b93512a4d"
      },
      "source": [
        "# Agora, pense que precisemos fazer o mesmo cálculo para diversos valores de x:\n",
        "x = 2\n",
        "y = x * x + 5\n",
        "z = x + y\n",
        "print(z)\n",
        "x = 4\n",
        "y = x * x + 5\n",
        "z = x + y\n",
        "print(z)\n",
        "x = 6\n",
        "y = x * x + 5\n",
        "z = x + y\n",
        "print(z)"
      ],
      "execution_count": 33,
      "outputs": [
        {
          "output_type": "stream",
          "text": [
            "11\n",
            "25\n",
            "47\n"
          ],
          "name": "stdout"
        }
      ]
    },
    {
      "cell_type": "code",
      "metadata": {
        "colab": {
          "base_uri": "https://localhost:8080/"
        },
        "id": "uORqNQVa6WcU",
        "outputId": "091b0308-beec-43f9-d426-f961aa68ca0f"
      },
      "source": [
        "# Perceba como eles ficam repetitivos... Portanto, podemos criar uma função:\n",
        "\n",
        "def minha_funcao(x):\n",
        "    y = x * x + 5\n",
        "    z = x + y\n",
        "    return z\n",
        "# os blocos de código em python são definidos pela indentação (espaço em branco antes da linha).\n",
        "\n",
        "print(minha_funcao(2))\n",
        "print(minha_funcao(4))\n",
        "print(minha_funcao(6))\n",
        "print(minha_funcao(7))\n",
        "print(minha_funcao(8))\n",
        "print(minha_funcao(10))"
      ],
      "execution_count": 34,
      "outputs": [
        {
          "output_type": "stream",
          "text": [
            "11\n",
            "25\n",
            "47\n",
            "61\n",
            "77\n",
            "115\n"
          ],
          "name": "stdout"
        }
      ]
    },
    {
      "cell_type": "markdown",
      "metadata": {
        "id": "T3IKICai8u9a"
      },
      "source": [
        "### 2.6 Condicionais"
      ]
    },
    {
      "cell_type": "code",
      "metadata": {
        "colab": {
          "base_uri": "https://localhost:8080/"
        },
        "id": "sp5k04G16jR8",
        "outputId": "0e638b00-2f79-4451-9cbf-d27b5ea5bcf6"
      },
      "source": [
        "# se\n",
        "a = 10\n",
        "# se a for igual a 10, então faça isso\n",
        "if a == 10:\n",
        "    print(\"é 10\")"
      ],
      "execution_count": 35,
      "outputs": [
        {
          "output_type": "stream",
          "text": [
            "é 10\n"
          ],
          "name": "stdout"
        }
      ]
    },
    {
      "cell_type": "code",
      "metadata": {
        "colab": {
          "base_uri": "https://localhost:8080/"
        },
        "id": "F9TlFJrU98HW",
        "outputId": "d99a28a1-e126-4dbd-e832-fa0df55412d4"
      },
      "source": [
        "# senão\n",
        "# se a for igual a 10, então faça isso, senão faça aquilo\n",
        "a = 11\n",
        "if a == 10:\n",
        "    print(\"é 10\")\n",
        "else:\n",
        "    print(\"não é 10\")"
      ],
      "execution_count": 36,
      "outputs": [
        {
          "output_type": "stream",
          "text": [
            "não é 10\n"
          ],
          "name": "stdout"
        }
      ]
    },
    {
      "cell_type": "code",
      "metadata": {
        "colab": {
          "base_uri": "https://localhost:8080/"
        },
        "id": "kMeeGg71-G4s",
        "outputId": "85081125-99e4-4b32-fec0-d5247d5d744c"
      },
      "source": [
        "a = 11\n",
        "if a == 10:\n",
        "    print(\"é 10\")\n",
        "elif a == 11:\n",
        "    print(\"é 11\")\n",
        "else:\n",
        "    print(\"não é 10 nem 11\")"
      ],
      "execution_count": 37,
      "outputs": [
        {
          "output_type": "stream",
          "text": [
            "é 11\n"
          ],
          "name": "stdout"
        }
      ]
    },
    {
      "cell_type": "markdown",
      "metadata": {
        "id": "0LavehqE-5IL"
      },
      "source": [
        "### 2.7 Laços de repetição\n"
      ]
    },
    {
      "cell_type": "code",
      "metadata": {
        "colab": {
          "base_uri": "https://localhost:8080/"
        },
        "id": "m4dtvOxJ_LGN",
        "outputId": "1e97a88e-bccc-4f54-b367-aa2ec2a0ce57"
      },
      "source": [
        "# pense que queremos exibir os números de 1 a 8 na tela, podemos fazer:\n",
        "print(1)\n",
        "print(2)\n",
        "print(3)\n",
        "print(4)\n",
        "print(5)\n",
        "print(6)\n",
        "print(7)\n",
        "print(8)"
      ],
      "execution_count": 38,
      "outputs": [
        {
          "output_type": "stream",
          "text": [
            "1\n",
            "2\n",
            "3\n",
            "4\n",
            "5\n",
            "6\n",
            "7\n",
            "8\n"
          ],
          "name": "stdout"
        }
      ]
    },
    {
      "cell_type": "code",
      "metadata": {
        "colab": {
          "base_uri": "https://localhost:8080/"
        },
        "id": "32umvGvn_PuF",
        "outputId": "14b3111e-d864-4b3c-c34f-e42a32459618"
      },
      "source": [
        "# mas, podemos fazer também com repetição em listas:\n",
        "a = [1, 2, 3, 4, 5, 6, 7, 8]\n",
        "for i in range(0, len(a)):\n",
        "    print(i + 1)"
      ],
      "execution_count": 39,
      "outputs": [
        {
          "output_type": "stream",
          "text": [
            "1\n",
            "2\n",
            "3\n",
            "4\n",
            "5\n",
            "6\n",
            "7\n",
            "8\n"
          ],
          "name": "stdout"
        }
      ]
    },
    {
      "cell_type": "code",
      "metadata": {
        "colab": {
          "base_uri": "https://localhost:8080/"
        },
        "id": "Em3nX59J_aLW",
        "outputId": "57f513a6-426c-4d51-a9c7-dac93e3e1e04"
      },
      "source": [
        "# ou com o while (enquanto)\n",
        "i = 1\n",
        "while i <= 8:\n",
        "    print(i)\n",
        "    i = i + 1"
      ],
      "execution_count": 40,
      "outputs": [
        {
          "output_type": "stream",
          "text": [
            "1\n",
            "2\n",
            "3\n",
            "4\n",
            "5\n",
            "6\n",
            "7\n",
            "8\n"
          ],
          "name": "stdout"
        }
      ]
    },
    {
      "cell_type": "markdown",
      "metadata": {
        "id": "Y9ciIBCcClRU"
      },
      "source": [
        "### 2.8 Bibliotecas\n",
        "\n",
        "Uma biblioteca pode ser pensada com um pacote de objetos/tipos/funções que podem nos auxiliar em nossos projetos."
      ]
    },
    {
      "cell_type": "code",
      "metadata": {
        "id": "QIDTxQsLC0o6"
      },
      "source": [
        "import math"
      ],
      "execution_count": 41,
      "outputs": []
    },
    {
      "cell_type": "code",
      "metadata": {
        "colab": {
          "base_uri": "https://localhost:8080/"
        },
        "id": "N1Xy7SKKC5RS",
        "outputId": "3e4408d9-25c5-4f88-a6de-28f9faf4c32b"
      },
      "source": [
        "math.cos(math.pi)"
      ],
      "execution_count": 42,
      "outputs": [
        {
          "output_type": "execute_result",
          "data": {
            "text/plain": [
              "-1.0"
            ]
          },
          "metadata": {},
          "execution_count": 42
        }
      ]
    },
    {
      "cell_type": "code",
      "metadata": {
        "id": "ABLV8QqCDEWz"
      },
      "source": [
        "import math as eduardo"
      ],
      "execution_count": 43,
      "outputs": []
    },
    {
      "cell_type": "code",
      "metadata": {
        "colab": {
          "base_uri": "https://localhost:8080/"
        },
        "id": "Vgn6ACnWDGSS",
        "outputId": "b657816a-2a87-4d24-db53-6117d3253a97"
      },
      "source": [
        "eduardo.cos(math.pi)"
      ],
      "execution_count": 44,
      "outputs": [
        {
          "output_type": "execute_result",
          "data": {
            "text/plain": [
              "-1.0"
            ]
          },
          "metadata": {},
          "execution_count": 44
        }
      ]
    },
    {
      "cell_type": "code",
      "metadata": {
        "id": "QI76rGPgDT4L"
      },
      "source": [
        "from math import cos, pi"
      ],
      "execution_count": 45,
      "outputs": []
    },
    {
      "cell_type": "code",
      "metadata": {
        "colab": {
          "base_uri": "https://localhost:8080/"
        },
        "id": "URqQFb9EDcYL",
        "outputId": "cb5a59a4-fcb9-4951-859d-fb3500f3c1e1"
      },
      "source": [
        "cos(pi)"
      ],
      "execution_count": 46,
      "outputs": [
        {
          "output_type": "execute_result",
          "data": {
            "text/plain": [
              "-1.0"
            ]
          },
          "metadata": {},
          "execution_count": 46
        }
      ]
    },
    {
      "cell_type": "markdown",
      "metadata": {
        "id": "9DysyKemBbqe"
      },
      "source": [
        "### 2.9 Links Recomendados\n",
        "\n",
        "#### 2.9.1 Leituras\n",
        "\n",
        "- https://introducao-a-python-pyladies-brasil.netlify.app/\n",
        "\n",
        "#### 2.9.2 Cursos\n",
        "\n",
        "- https://www.youtube.com/playlist?list=PLHz_AreHm4dlKP6QQCekuIPky1CiwmdI6\n"
      ]
    },
    {
      "cell_type": "markdown",
      "metadata": {
        "id": "F_Bc9jMn_zce"
      },
      "source": [
        "## 3 Visualização de dados"
      ]
    },
    {
      "cell_type": "code",
      "metadata": {
        "id": "JIJiqGBfA6TB"
      },
      "source": [
        "import seaborn as sns"
      ],
      "execution_count": 47,
      "outputs": []
    },
    {
      "cell_type": "markdown",
      "metadata": {
        "id": "Nvb1-IffC-9s"
      },
      "source": [
        "### 3.1 Gráfico de Linha"
      ]
    },
    {
      "cell_type": "code",
      "metadata": {
        "colab": {
          "base_uri": "https://localhost:8080/",
          "height": 312
        },
        "id": "fLpXPL7m_3wy",
        "outputId": "857bfa9d-bdc4-4822-9603-5eca696167f2"
      },
      "source": [
        "anos = [\"2015\", \"2016\", \"2017\", \"2018\", \"2019\"]\n",
        "valores = [10, 20, 30, 100, 90]\n",
        "grafico = sns.lineplot(x = anos, y = valores)\n",
        "grafico.set_xlabel(\"Ano\")\n",
        "grafico.set_ylabel(\"Vendas\")\n",
        "grafico.set_title(\"Gráfico de Vendas de 2015 a 2019\")"
      ],
      "execution_count": 63,
      "outputs": [
        {
          "output_type": "execute_result",
          "data": {
            "text/plain": [
              "Text(0.5, 1.0, 'Gráfico de Vendas de 2015 a 2019')"
            ]
          },
          "metadata": {},
          "execution_count": 63
        },
        {
          "output_type": "display_data",
          "data": {
            "image/png": "[encoded data removed]",
            "text/plain": [
              "<Figure size 432x288 with 1 Axes>"
            ]
          },
          "metadata": {
            "needs_background": "light"
          }
        }
      ]
    },
    {
      "cell_type": "markdown",
      "metadata": {
        "id": "USLHI7n7DDEc"
      },
      "source": [
        "### 3.2 Gráfico de Dispersão"
      ]
    },
    {
      "cell_type": "code",
      "metadata": {
        "colab": {
          "base_uri": "https://localhost:8080/",
          "height": 282
        },
        "id": "463iq61OCUVH",
        "outputId": "d58739b9-4ff9-47da-8da2-dcdfb3e30eda"
      },
      "source": [
        "sns.scatterplot(x = anos, y = valores)"
      ],
      "execution_count": 65,
      "outputs": [
        {
          "output_type": "execute_result",
          "data": {
            "text/plain": [
              "<matplotlib.axes._subplots.AxesSubplot at 0x7fd00d94f090>"
            ]
          },
          "metadata": {},
          "execution_count": 65
        },
        {
          "output_type": "display_data",
          "data": {
            "image/png": "[encoded data removed]",
            "text/plain": [
              "<Figure size 432x288 with 1 Axes>"
            ]
          },
          "metadata": {
            "needs_background": "light"
          }
        }
      ]
    },
    {
      "cell_type": "markdown",
      "metadata": {
        "id": "VVPSXusmGTjY"
      },
      "source": [
        "### 3.3 Gráfico de Barras"
      ]
    },
    {
      "cell_type": "code",
      "metadata": {
        "colab": {
          "base_uri": "https://localhost:8080/",
          "height": 282
        },
        "id": "pDh9DytyC4ew",
        "outputId": "cafca83f-6534-4a83-e651-420350e2d88a"
      },
      "source": [
        "sns.barplot(x = anos, y = valores)"
      ],
      "execution_count": 66,
      "outputs": [
        {
          "output_type": "execute_result",
          "data": {
            "text/plain": [
              "<matplotlib.axes._subplots.AxesSubplot at 0x7fd00d978b10>"
            ]
          },
          "metadata": {},
          "execution_count": 66
        },
        {
          "output_type": "display_data",
          "data": {
            "image/png": "[encoded data removed]",
            "text/plain": [
              "<Figure size 432x288 with 1 Axes>"
            ]
          },
          "metadata": {
            "needs_background": "light"
          }
        }
      ]
    }
  ]
}