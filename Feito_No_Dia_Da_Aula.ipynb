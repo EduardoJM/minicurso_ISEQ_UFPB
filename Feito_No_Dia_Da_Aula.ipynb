{
  "nbformat": 4,
  "nbformat_minor": 0,
  "metadata": {
    "colab": {
      "name": "Feito_No_Dia_Da_Aula.ipynb",
      "provenance": [],
      "authorship_tag": "ABX9TyMZ+u3nUFv+Z1spR7rGT85X",
      "include_colab_link": true
    },
    "kernelspec": {
      "name": "python3",
      "display_name": "Python 3"
    },
    "language_info": {
      "name": "python"
    }
  },
  "cells": [
    {
      "cell_type": "markdown",
      "metadata": {
        "id": "view-in-github",
        "colab_type": "text"
      },
      "source": [
        "<a href=\"https://colab.research.google.com/github/EduardoJM/minicurso_ISEQ_UFPB/blob/main/Feito_No_Dia_Da_Aula.ipynb\" target=\"_parent\"><img src=\"https://colab.research.google.com/assets/colab-badge.svg\" alt=\"Open In Colab\"/></a>"
      ]
    },
    {
      "cell_type": "markdown",
      "metadata": {
        "id": "7bAjKnoOw_xB"
      },
      "source": [
        "# Esse é um bloco de texto.\n"
      ]
    },
    {
      "cell_type": "code",
      "metadata": {
        "id": "BhMo0GyVwmxb"
      },
      "source": [
        "# esse é um comentário"
      ],
      "execution_count": 1,
      "outputs": []
    },
    {
      "cell_type": "code",
      "metadata": {
        "id": "mqzL_X24xer0"
      },
      "source": [
        "# nome = valor\n",
        "x = 3"
      ],
      "execution_count": 3,
      "outputs": []
    },
    {
      "cell_type": "code",
      "metadata": {
        "colab": {
          "base_uri": "https://localhost:8080/"
        },
        "id": "gactCZlhx3sa",
        "outputId": "3f3bf2a6-efc1-44dd-a18c-713449f737da"
      },
      "source": [
        "# imprimir x na tela\n",
        "print(x)"
      ],
      "execution_count": 4,
      "outputs": [
        {
          "output_type": "stream",
          "text": [
            "3\n"
          ],
          "name": "stdout"
        }
      ]
    },
    {
      "cell_type": "code",
      "metadata": {
        "colab": {
          "base_uri": "https://localhost:8080/"
        },
        "id": "nc7Ojd0HyAZZ",
        "outputId": "72709aab-7df2-43ac-906e-bf3869782557"
      },
      "source": [
        "# entrada de dados\n",
        "idade = input(\"Digite sua idade: \")"
      ],
      "execution_count": 5,
      "outputs": [
        {
          "output_type": "stream",
          "text": [
            "Digite sua idade: 24\n"
          ],
          "name": "stdout"
        }
      ]
    },
    {
      "cell_type": "code",
      "metadata": {
        "colab": {
          "base_uri": "https://localhost:8080/"
        },
        "id": "b-MTmvNGyQoO",
        "outputId": "9815bc10-f303-4334-95f3-dcaac47ab5b2"
      },
      "source": [
        "print(\"Sua idade é \", idade, \" anos\")"
      ],
      "execution_count": 7,
      "outputs": [
        {
          "output_type": "stream",
          "text": [
            "Sua idade é  24  anos\n"
          ],
          "name": "stdout"
        }
      ]
    },
    {
      "cell_type": "code",
      "metadata": {
        "colab": {
          "base_uri": "https://localhost:8080/"
        },
        "id": "obGU383oyt_E",
        "outputId": "08c7e565-4aec-4def-f888-ea685bcf6abe"
      },
      "source": [
        "# tipos de dados\n",
        "x = 3.14159\n",
        "print(x)"
      ],
      "execution_count": 8,
      "outputs": [
        {
          "output_type": "stream",
          "text": [
            "3.14159\n"
          ],
          "name": "stdout"
        }
      ]
    },
    {
      "cell_type": "markdown",
      "metadata": {
        "id": "ma7oJMnKy600"
      },
      "source": [
        "\n",
        "\n",
        "*   bool - booleano - Verdadeiro ou Falso\n",
        "*   float - ponto flutuante - Número quebrado / decimal\n",
        "*   int - inteiro - número inteiro\n",
        "*   complex - complexo - número complexo\n",
        "*   str - string - texto\n",
        "\n"
      ]
    },
    {
      "cell_type": "code",
      "metadata": {
        "colab": {
          "base_uri": "https://localhost:8080/"
        },
        "id": "djxxBihWzOiE",
        "outputId": "0286a91e-5660-4393-d624-afa5e33adbd4"
      },
      "source": [
        "sim = True # True - Verdadeiro\n",
        "nao = False # False - Falso\n",
        "\n",
        "print(sim)"
      ],
      "execution_count": 9,
      "outputs": [
        {
          "output_type": "stream",
          "text": [
            "True\n"
          ],
          "name": "stdout"
        }
      ]
    },
    {
      "cell_type": "code",
      "metadata": {
        "colab": {
          "base_uri": "https://localhost:8080/"
        },
        "id": "fWroYlZSzd6x",
        "outputId": "9bcaa726-06e7-4631-b82a-244b16dcbee6"
      },
      "source": [
        "print(nao)"
      ],
      "execution_count": 13,
      "outputs": [
        {
          "output_type": "stream",
          "text": [
            "False\n"
          ],
          "name": "stdout"
        }
      ]
    },
    {
      "cell_type": "code",
      "metadata": {
        "colab": {
          "base_uri": "https://localhost:8080/"
        },
        "id": "lTsTfy5Nz8_T",
        "outputId": "f87eea75-ef39-4291-ddcd-a91a2d326158"
      },
      "source": [
        "numero1 = 10.0\n",
        "numero2 = 10\n",
        "print(numero1); print(type(numero1));\n",
        "print(numero2); print(type(numero2))"
      ],
      "execution_count": 20,
      "outputs": [
        {
          "output_type": "stream",
          "text": [
            "10.0\n",
            "<class 'float'>\n",
            "10\n",
            "<class 'int'>\n"
          ],
          "name": "stdout"
        }
      ]
    },
    {
      "cell_type": "code",
      "metadata": {
        "colab": {
          "base_uri": "https://localhost:8080/"
        },
        "id": "drtucNEw0wGU",
        "outputId": "5fdd54b5-504d-4450-b2d4-cd8c1771e8cf"
      },
      "source": [
        "numero_inteiro = int(10.5)\n",
        "print(numero_inteiro)"
      ],
      "execution_count": 21,
      "outputs": [
        {
          "output_type": "stream",
          "text": [
            "10\n"
          ],
          "name": "stdout"
        }
      ]
    },
    {
      "cell_type": "code",
      "metadata": {
        "colab": {
          "base_uri": "https://localhost:8080/"
        },
        "id": "h5ufv0Uw05hU",
        "outputId": "987c6c7b-00eb-46ef-9acd-dab4e5af98e6"
      },
      "source": [
        "complexo = 6 + 2j\n",
        "print(complexo)\n",
        "print(type(complexo))"
      ],
      "execution_count": 22,
      "outputs": [
        {
          "output_type": "stream",
          "text": [
            "(6+2j)\n",
            "<class 'complex'>\n"
          ],
          "name": "stdout"
        }
      ]
    },
    {
      "cell_type": "code",
      "metadata": {
        "colab": {
          "base_uri": "https://localhost:8080/"
        },
        "id": "r8m_-9MW1KPe",
        "outputId": "7322a42c-eb03-4f57-ab66-1bb424c1029b"
      },
      "source": [
        "meuNome = \"Eduardo Oliveira\"\n",
        "print(meuNome.replace('Oliveira', 'José'))\n",
        "# len - length - dimensão - tamanho"
      ],
      "execution_count": 30,
      "outputs": [
        {
          "output_type": "stream",
          "text": [
            "Eduardo José\n"
          ],
          "name": "stdout"
        }
      ]
    },
    {
      "cell_type": "code",
      "metadata": {
        "colab": {
          "base_uri": "https://localhost:8080/"
        },
        "id": "vWp7EsIn2rw4",
        "outputId": "425779f1-7619-4ede-a824-6edbb8ce1291"
      },
      "source": [
        "# list - lista - array\n",
        "lista_primos = [2, 3, 5, 7, 11]\n",
        "print(lista_primos)"
      ],
      "execution_count": 31,
      "outputs": [
        {
          "output_type": "stream",
          "text": [
            "[2, 3, 5, 7, 11]\n"
          ],
          "name": "stdout"
        }
      ]
    },
    {
      "cell_type": "code",
      "metadata": {
        "colab": {
          "base_uri": "https://localhost:8080/"
        },
        "id": "qightuiw3KaV",
        "outputId": "8cdd4776-4f46-44aa-8fe1-89bcb1e564c1"
      },
      "source": [
        "print(len(lista_primos))"
      ],
      "execution_count": 35,
      "outputs": [
        {
          "output_type": "stream",
          "text": [
            "5\n"
          ],
          "name": "stdout"
        }
      ]
    },
    {
      "cell_type": "code",
      "metadata": {
        "colab": {
          "base_uri": "https://localhost:8080/"
        },
        "id": "OlqtkCUw3VBg",
        "outputId": "b2e66c54-ea51-4036-9d9b-f6c0f0733272"
      },
      "source": [
        "lista_primos = [2, 2, 2, 2]\n",
        "print(lista_primos)\n",
        "# set - conjunto"
      ],
      "execution_count": 37,
      "outputs": [
        {
          "output_type": "stream",
          "text": [
            "[2, 2, 2, 2]\n"
          ],
          "name": "stdout"
        }
      ]
    },
    {
      "cell_type": "code",
      "metadata": {
        "colab": {
          "base_uri": "https://localhost:8080/"
        },
        "id": "Swwq3AGP3i7C",
        "outputId": "b55e3336-37cf-4710-e7eb-0bf395ab005a"
      },
      "source": [
        "# dict - dictionary - dicionário\n",
        "# chave-valor\n",
        "nome = 'Eduardo'\n",
        "idade = 24\n",
        "print(nome)\n",
        "print(idade)"
      ],
      "execution_count": 38,
      "outputs": [
        {
          "output_type": "stream",
          "text": [
            "Eduardo\n",
            "24\n"
          ],
          "name": "stdout"
        }
      ]
    },
    {
      "cell_type": "code",
      "metadata": {
        "colab": {
          "base_uri": "https://localhost:8080/"
        },
        "id": "jRAxPVaZ3yNT",
        "outputId": "eb977f07-4117-4f76-d00f-1a98948be903"
      },
      "source": [
        "# indentação - indent\n",
        "pessoa = {\n",
        "    \"nome\": \"Eduardo\",\n",
        "    \"idade\": 24\n",
        "}\n",
        "print(pessoa)"
      ],
      "execution_count": 39,
      "outputs": [
        {
          "output_type": "stream",
          "text": [
            "{'nome': 'Eduardo', 'idade': 24}\n"
          ],
          "name": "stdout"
        }
      ]
    },
    {
      "cell_type": "code",
      "metadata": {
        "colab": {
          "base_uri": "https://localhost:8080/"
        },
        "id": "Lp8nBtvG4R5f",
        "outputId": "8bec5314-929b-47a1-b7ef-52410a0c97d5"
      },
      "source": [
        "print(pessoa[\"nome\"])"
      ],
      "execution_count": 40,
      "outputs": [
        {
          "output_type": "stream",
          "text": [
            "Eduardo\n"
          ],
          "name": "stdout"
        }
      ]
    },
    {
      "cell_type": "code",
      "metadata": {
        "colab": {
          "base_uri": "https://localhost:8080/"
        },
        "id": "Jo1Ntxn84XCy",
        "outputId": "de93b402-115c-46d7-dcb1-654aac8cc009"
      },
      "source": [
        "print(pessoa[\"idade\"])"
      ],
      "execution_count": 41,
      "outputs": [
        {
          "output_type": "stream",
          "text": [
            "24\n"
          ],
          "name": "stdout"
        }
      ]
    },
    {
      "cell_type": "code",
      "metadata": {
        "colab": {
          "base_uri": "https://localhost:8080/"
        },
        "id": "kSlVFUsH4bGT",
        "outputId": "a5e73423-2010-4929-b56e-65b60ebba127"
      },
      "source": [
        "# keys - chaves\n",
        "print(pessoa.keys())"
      ],
      "execution_count": 44,
      "outputs": [
        {
          "output_type": "stream",
          "text": [
            "dict_keys(['nome', 'idade'])\n"
          ],
          "name": "stdout"
        }
      ]
    },
    {
      "cell_type": "markdown",
      "metadata": {
        "id": "A0Bc3WVK5JeV"
      },
      "source": [
        "- adição\n",
        "- subtração\n",
        "- divisão\n",
        "- divisão inteira\n",
        "- resto de divisão\n",
        "- potencia"
      ]
    },
    {
      "cell_type": "code",
      "metadata": {
        "colab": {
          "base_uri": "https://localhost:8080/"
        },
        "id": "OJT6tVOF5D6h",
        "outputId": "bdb5393e-8583-4cd4-b27b-3dd7f3b8d23e"
      },
      "source": [
        "print(15 + 5)"
      ],
      "execution_count": 46,
      "outputs": [
        {
          "output_type": "stream",
          "text": [
            "20\n"
          ],
          "name": "stdout"
        }
      ]
    },
    {
      "cell_type": "code",
      "metadata": {
        "colab": {
          "base_uri": "https://localhost:8080/"
        },
        "id": "AZAnFUjO5Zy1",
        "outputId": "88b77ae1-7cc9-4046-e3f8-62d6c7421042"
      },
      "source": [
        "print(3.14159 + 2)"
      ],
      "execution_count": 47,
      "outputs": [
        {
          "output_type": "stream",
          "text": [
            "5.14159\n"
          ],
          "name": "stdout"
        }
      ]
    },
    {
      "cell_type": "code",
      "metadata": {
        "colab": {
          "base_uri": "https://localhost:8080/"
        },
        "id": "VblJ27ux5fps",
        "outputId": "560b71ea-74d6-4619-d550-fc01c1945bcc"
      },
      "source": [
        "print((6 + 2j) + (4 + 2j))"
      ],
      "execution_count": 48,
      "outputs": [
        {
          "output_type": "stream",
          "text": [
            "(10+4j)\n"
          ],
          "name": "stdout"
        }
      ]
    },
    {
      "cell_type": "code",
      "metadata": {
        "colab": {
          "base_uri": "https://localhost:8080/"
        },
        "id": "rNHt_lSL5m9M",
        "outputId": "b160827e-f0cf-4c9c-bf2f-02bd43b8a720"
      },
      "source": [
        "print(10 - 9)"
      ],
      "execution_count": 49,
      "outputs": [
        {
          "output_type": "stream",
          "text": [
            "1\n"
          ],
          "name": "stdout"
        }
      ]
    },
    {
      "cell_type": "code",
      "metadata": {
        "colab": {
          "base_uri": "https://localhost:8080/"
        },
        "id": "rxPJpjFw5wb9",
        "outputId": "2db5d6c8-5000-4873-8ad4-edfb82dd83c4"
      },
      "source": [
        "print(9 / 3) # / -> divisão"
      ],
      "execution_count": 50,
      "outputs": [
        {
          "output_type": "stream",
          "text": [
            "3.0\n"
          ],
          "name": "stdout"
        }
      ]
    },
    {
      "cell_type": "code",
      "metadata": {
        "colab": {
          "base_uri": "https://localhost:8080/"
        },
        "id": "8vyIrawn56VI",
        "outputId": "bc05ad4b-723e-4249-d0f6-b0e51986bf8e"
      },
      "source": [
        "print(9 // 3)"
      ],
      "execution_count": 55,
      "outputs": [
        {
          "output_type": "stream",
          "text": [
            "3\n"
          ],
          "name": "stdout"
        }
      ]
    },
    {
      "cell_type": "code",
      "metadata": {
        "colab": {
          "base_uri": "https://localhost:8080/"
        },
        "id": "1z3uQnn86J77",
        "outputId": "7a945594-b809-448c-9565-4d7b258915b7"
      },
      "source": [
        "print((6 + 2j) / 2)"
      ],
      "execution_count": 56,
      "outputs": [
        {
          "output_type": "stream",
          "text": [
            "(3+1j)\n"
          ],
          "name": "stdout"
        }
      ]
    },
    {
      "cell_type": "code",
      "metadata": {
        "colab": {
          "base_uri": "https://localhost:8080/"
        },
        "id": "cC10sybq6UNk",
        "outputId": "e3a6d857-8621-42d9-e126-dfe07cf3ab5d"
      },
      "source": [
        "print(9.5 // 3)"
      ],
      "execution_count": 58,
      "outputs": [
        {
          "output_type": "stream",
          "text": [
            "3.0\n"
          ],
          "name": "stdout"
        }
      ]
    },
    {
      "cell_type": "code",
      "metadata": {
        "colab": {
          "base_uri": "https://localhost:8080/"
        },
        "id": "mNo8ZCWW6Zs_",
        "outputId": "0c6266ce-392b-4aaa-f734-25882c0ea9d8"
      },
      "source": [
        "print(9.5 % 3)\n",
        "# % -> o resto da divisão\n",
        "# % -> modulo / mod"
      ],
      "execution_count": 60,
      "outputs": [
        {
          "output_type": "stream",
          "text": [
            "0.5\n"
          ],
          "name": "stdout"
        }
      ]
    },
    {
      "cell_type": "code",
      "metadata": {
        "colab": {
          "base_uri": "https://localhost:8080/"
        },
        "id": "uYH2Jo-h6tHI",
        "outputId": "643e082d-6dd0-4ac7-e2c9-79710c9d75ab"
      },
      "source": [
        "\n",
        "# 3 > 2 // verdade\n",
        "# 3 >= 3 // verdade\n",
        "# 3 > 4 // falso\n",
        "\n",
        "# variáveis\n",
        "# incógnitas\n",
        "\n",
        "comparacao = 2\n",
        "print(comparacao >= 3)\n",
        "\n",
        "# > maior\n",
        "# < menor\n",
        "# >= maior ou igual que\n",
        "# <= menor ou igual que\n",
        "# == igualdade\n",
        "# != diferença"
      ],
      "execution_count": 64,
      "outputs": [
        {
          "output_type": "stream",
          "text": [
            "False\n"
          ],
          "name": "stdout"
        }
      ]
    },
    {
      "cell_type": "code",
      "metadata": {
        "colab": {
          "base_uri": "https://localhost:8080/"
        },
        "id": "owUlCrAx8O6v",
        "outputId": "d20bec80-e3e5-44e7-ad9b-87b7d8ca6a66"
      },
      "source": [
        "var = 20\n",
        "print(10 == var - 10)"
      ],
      "execution_count": 66,
      "outputs": [
        {
          "output_type": "stream",
          "text": [
            "True\n"
          ],
          "name": "stdout"
        }
      ]
    },
    {
      "cell_type": "code",
      "metadata": {
        "colab": {
          "base_uri": "https://localhost:8080/"
        },
        "id": "cg9qOhW_8gk7",
        "outputId": "621b92c4-168b-4472-de0f-490e3769de66"
      },
      "source": [
        "print(var != 10)"
      ],
      "execution_count": 71,
      "outputs": [
        {
          "output_type": "stream",
          "text": [
            "False\n"
          ],
          "name": "stdout"
        }
      ]
    },
    {
      "cell_type": "code",
      "metadata": {
        "colab": {
          "base_uri": "https://localhost:8080/"
        },
        "id": "k866m9ZX8lcG",
        "outputId": "7135e5fa-bc41-4ef6-dcb9-d697428f0183"
      },
      "source": [
        "lista = [1, 2, 3, 4]\n",
        "print(5 in lista)\n",
        "texto = \"Eduardo\"\n",
        "print(\"ar\" in texto)\n",
        "# in - está"
      ],
      "execution_count": 74,
      "outputs": [
        {
          "output_type": "stream",
          "text": [
            "False\n",
            "True\n"
          ],
          "name": "stdout"
        }
      ]
    },
    {
      "cell_type": "code",
      "metadata": {
        "id": "_7OyOSJU9lhC"
      },
      "source": [
        ""
      ],
      "execution_count": null,
      "outputs": []
    },
    {
      "cell_type": "code",
      "metadata": {
        "id": "pZREuhJ09lqe"
      },
      "source": [
        ""
      ],
      "execution_count": null,
      "outputs": []
    },
    {
      "cell_type": "code",
      "metadata": {
        "id": "w5ggRVHP9lt6"
      },
      "source": [
        ""
      ],
      "execution_count": null,
      "outputs": []
    },
    {
      "cell_type": "code",
      "metadata": {
        "colab": {
          "base_uri": "https://localhost:8080/"
        },
        "id": "vGlNcreT9mOx",
        "outputId": "c21f5680-f481-4f6e-fc0d-d7cc203c639b"
      },
      "source": [
        "x = 2\n",
        "y = x ** 2 + 5\n",
        "z = x + y\n",
        "print(z)\n",
        "\n",
        "x = 3\n",
        "y = x ** 2 + 5\n",
        "z = x + y\n",
        "print(z)\n",
        "\n",
        "x = 4\n",
        "y = x ** 2 + 5\n",
        "z = x + y\n",
        "print(z)"
      ],
      "execution_count": 76,
      "outputs": [
        {
          "output_type": "stream",
          "text": [
            "11\n",
            "17\n",
            "25\n"
          ],
          "name": "stdout"
        }
      ]
    },
    {
      "cell_type": "code",
      "metadata": {
        "id": "5DL9mEqt-Dta"
      },
      "source": [
        "# definition -> definição\n",
        "def minha_funcao(x):\n",
        "    y = x ** 2 + 5\n",
        "    z = x + y\n",
        "    return z"
      ],
      "execution_count": 81,
      "outputs": []
    },
    {
      "cell_type": "code",
      "metadata": {
        "colab": {
          "base_uri": "https://localhost:8080/"
        },
        "id": "2t_F7g_O-1ir",
        "outputId": "6f850626-2b9d-4dac-842e-e99991f6f20c"
      },
      "source": [
        "print(minha_funcao(2))\n",
        "print(minha_funcao(3))\n",
        "print(minha_funcao(4))"
      ],
      "execution_count": 82,
      "outputs": [
        {
          "output_type": "stream",
          "text": [
            "11\n",
            "17\n",
            "25\n"
          ],
          "name": "stdout"
        }
      ]
    },
    {
      "cell_type": "code",
      "metadata": {
        "colab": {
          "base_uri": "https://localhost:8080/"
        },
        "id": "vwGCaut3_M9m",
        "outputId": "e341a269-7a29-4efe-a958-6b24a1a0d256"
      },
      "source": [
        "# if - SE\n",
        "\n",
        "def funcao(x):\n",
        "    # se x igual 10 entao faça alguma coisa\n",
        "    # else - caso contrário\n",
        "    # elif - else if -> caso contrário se x = 14 faça outra coisa\n",
        "    if (x == 10):\n",
        "        print(\"É 10\")\n",
        "    elif (x == 14):\n",
        "        print(\"É 14\")\n",
        "    else:\n",
        "        print(\"Não é 10 nem 14\")\n",
        "\n",
        "funcao(14)"
      ],
      "execution_count": 91,
      "outputs": [
        {
          "output_type": "stream",
          "text": [
            "É 14\n"
          ],
          "name": "stdout"
        }
      ]
    },
    {
      "cell_type": "code",
      "metadata": {
        "id": "89jli58hBFHk"
      },
      "source": [
        ""
      ],
      "execution_count": null,
      "outputs": []
    },
    {
      "cell_type": "code",
      "metadata": {
        "id": "ZbSbfwlpBFPp"
      },
      "source": [
        ""
      ],
      "execution_count": null,
      "outputs": []
    },
    {
      "cell_type": "code",
      "metadata": {
        "id": "DTUGUnIQBFUY"
      },
      "source": [
        ""
      ],
      "execution_count": null,
      "outputs": []
    },
    {
      "cell_type": "code",
      "metadata": {
        "colab": {
          "base_uri": "https://localhost:8080/"
        },
        "id": "Bmp5bHxFBFX7",
        "outputId": "9471a0c7-efb6-4fa2-a549-0becf284f286"
      },
      "source": [
        "# range\n",
        "# intervalo de números\n",
        "lista = range(1, 101)\n",
        "for numero in lista:\n",
        "    print(minha_funcao(numero))\n",
        "\n",
        "# print(minha_funcao(1))\n",
        "# print(minha_funcao(2))\n",
        "# print(minha_funcao(3))\n",
        "# print(minha_funcao(4))"
      ],
      "execution_count": 99,
      "outputs": [
        {
          "output_type": "stream",
          "text": [
            "7\n",
            "11\n",
            "17\n",
            "25\n",
            "35\n",
            "47\n",
            "61\n",
            "77\n",
            "95\n",
            "115\n",
            "137\n",
            "161\n",
            "187\n",
            "215\n",
            "245\n",
            "277\n",
            "311\n",
            "347\n",
            "385\n",
            "425\n",
            "467\n",
            "511\n",
            "557\n",
            "605\n",
            "655\n",
            "707\n",
            "761\n",
            "817\n",
            "875\n",
            "935\n",
            "997\n",
            "1061\n",
            "1127\n",
            "1195\n",
            "1265\n",
            "1337\n",
            "1411\n",
            "1487\n",
            "1565\n",
            "1645\n",
            "1727\n",
            "1811\n",
            "1897\n",
            "1985\n",
            "2075\n",
            "2167\n",
            "2261\n",
            "2357\n",
            "2455\n",
            "2555\n",
            "2657\n",
            "2761\n",
            "2867\n",
            "2975\n",
            "3085\n",
            "3197\n",
            "3311\n",
            "3427\n",
            "3545\n",
            "3665\n",
            "3787\n",
            "3911\n",
            "4037\n",
            "4165\n",
            "4295\n",
            "4427\n",
            "4561\n",
            "4697\n",
            "4835\n",
            "4975\n",
            "5117\n",
            "5261\n",
            "5407\n",
            "5555\n",
            "5705\n",
            "5857\n",
            "6011\n",
            "6167\n",
            "6325\n",
            "6485\n",
            "6647\n",
            "6811\n",
            "6977\n",
            "7145\n",
            "7315\n",
            "7487\n",
            "7661\n",
            "7837\n",
            "8015\n",
            "8195\n",
            "8377\n",
            "8561\n",
            "8747\n",
            "8935\n",
            "9125\n",
            "9317\n",
            "9511\n",
            "9707\n",
            "9905\n",
            "10105\n"
          ],
          "name": "stdout"
        }
      ]
    },
    {
      "cell_type": "code",
      "metadata": {
        "colab": {
          "base_uri": "https://localhost:8080/"
        },
        "id": "4qH70TPbCYhO",
        "outputId": "d2606db2-a081-478e-8bf6-c5291baced2e"
      },
      "source": [
        "texto = \"Meu nome é Eduardo!\"\n",
        "for letra in texto:\n",
        "    print(letra)"
      ],
      "execution_count": 100,
      "outputs": [
        {
          "output_type": "stream",
          "text": [
            "M\n",
            "e\n",
            "u\n",
            " \n",
            "n\n",
            "o\n",
            "m\n",
            "e\n",
            " \n",
            "é\n",
            " \n",
            "E\n",
            "d\n",
            "u\n",
            "a\n",
            "r\n",
            "d\n",
            "o\n",
            "!\n"
          ],
          "name": "stdout"
        }
      ]
    },
    {
      "cell_type": "code",
      "metadata": {
        "id": "wOjgEKX8DwbT"
      },
      "source": [
        ""
      ],
      "execution_count": null,
      "outputs": []
    },
    {
      "cell_type": "code",
      "metadata": {
        "colab": {
          "base_uri": "https://localhost:8080/"
        },
        "id": "ZRlLugJJDw9k",
        "outputId": "d01f3e02-5d96-46b7-d125-206fdfddfa8e"
      },
      "source": [
        "# while\n",
        "# equanto\n",
        "\n",
        "idade = int(input(\"Qual é a sua idade: \"))\n",
        "nova_variavel = 1\n",
        "while nova_variavel < idade:\n",
        "    print(nova_variavel)\n",
        "    nova_variavel = nova_variavel + 1\n",
        "    #nova_variavel += 1\n",
        "\n"
      ],
      "execution_count": 102,
      "outputs": [
        {
          "output_type": "stream",
          "text": [
            "Qual é a sua idade: 8\n",
            "1\n",
            "2\n",
            "3\n",
            "4\n",
            "5\n",
            "6\n",
            "7\n"
          ],
          "name": "stdout"
        }
      ]
    },
    {
      "cell_type": "code",
      "metadata": {
        "id": "-4pg9B3dFAMo"
      },
      "source": [
        ""
      ],
      "execution_count": null,
      "outputs": []
    },
    {
      "cell_type": "code",
      "metadata": {
        "id": "V8oJQRQxFAlm"
      },
      "source": [
        ""
      ],
      "execution_count": null,
      "outputs": []
    },
    {
      "cell_type": "code",
      "metadata": {
        "id": "gFvT2KsjFA6J"
      },
      "source": [
        "import math\n",
        "# math -> matemática"
      ],
      "execution_count": 103,
      "outputs": []
    },
    {
      "cell_type": "code",
      "metadata": {
        "colab": {
          "base_uri": "https://localhost:8080/"
        },
        "id": "ohQ8u2lfFfoO",
        "outputId": "0da1f4bc-321e-412a-bc0e-492ea58204cb"
      },
      "source": [
        "math.cos(math.pi)"
      ],
      "execution_count": 104,
      "outputs": [
        {
          "output_type": "execute_result",
          "data": {
            "text/plain": [
              "-1.0"
            ]
          },
          "metadata": {},
          "execution_count": 104
        }
      ]
    },
    {
      "cell_type": "code",
      "metadata": {
        "id": "mJ1NGYKWFx0d"
      },
      "source": [
        "import math as eduardo"
      ],
      "execution_count": 105,
      "outputs": []
    },
    {
      "cell_type": "code",
      "metadata": {
        "colab": {
          "base_uri": "https://localhost:8080/"
        },
        "id": "TjLXWFg5F6hh",
        "outputId": "fcadb0c0-072b-4a04-f4a8-8a07bcb4b200"
      },
      "source": [
        "eduardo.cos(2*eduardo.pi)"
      ],
      "execution_count": 107,
      "outputs": [
        {
          "output_type": "execute_result",
          "data": {
            "text/plain": [
              "1.0"
            ]
          },
          "metadata": {},
          "execution_count": 107
        }
      ]
    },
    {
      "cell_type": "code",
      "metadata": {
        "id": "uJURUgkpGKiK"
      },
      "source": [
        "from math import cos, pi\n",
        "# de"
      ],
      "execution_count": 108,
      "outputs": []
    },
    {
      "cell_type": "code",
      "metadata": {
        "colab": {
          "base_uri": "https://localhost:8080/"
        },
        "id": "7PevT4kaGUaP",
        "outputId": "eb907f6d-06ec-4f7b-feb7-f353e50fb0a6"
      },
      "source": [
        "cos(pi)"
      ],
      "execution_count": 109,
      "outputs": [
        {
          "output_type": "execute_result",
          "data": {
            "text/plain": [
              "-1.0"
            ]
          },
          "metadata": {},
          "execution_count": 109
        }
      ]
    },
    {
      "cell_type": "code",
      "metadata": {
        "colab": {
          "base_uri": "https://localhost:8080/"
        },
        "id": "QZzbOTUVGbm7",
        "outputId": "eb0d8fdf-55d6-4992-ca0a-e4527d6dcddb"
      },
      "source": [
        "a = 11\n",
        "if a == 11:\n",
        "    import math as abcd\n",
        "    print(abcd.cos(abcd.pi))\n",
        "\n",
        "print(abcd.cos(2 * abcd.pi))\n"
      ],
      "execution_count": 111,
      "outputs": [
        {
          "output_type": "stream",
          "text": [
            "-1.0\n",
            "1.0\n"
          ],
          "name": "stdout"
        }
      ]
    },
    {
      "cell_type": "code",
      "metadata": {
        "id": "n5Ch5WHSG-l2"
      },
      "source": [
        ""
      ],
      "execution_count": null,
      "outputs": []
    },
    {
      "cell_type": "code",
      "metadata": {
        "id": "K4-LZovPHBAT"
      },
      "source": [
        ""
      ],
      "execution_count": null,
      "outputs": []
    },
    {
      "cell_type": "code",
      "metadata": {
        "id": "mv4zLdkCHBeW"
      },
      "source": [
        ""
      ],
      "execution_count": null,
      "outputs": []
    },
    {
      "cell_type": "code",
      "metadata": {
        "id": "RJca-iNnHBtl"
      },
      "source": [
        "from sympy import Symbol, diff\n",
        "x = Symbol(\"x\")\n",
        "#sym = symbolic\n",
        "#py = python"
      ],
      "execution_count": 112,
      "outputs": []
    },
    {
      "cell_type": "code",
      "metadata": {
        "id": "Xa1B5oeOHqLf"
      },
      "source": [
        "f = x ** 3 + x**2 +2*x +5"
      ],
      "execution_count": 114,
      "outputs": []
    },
    {
      "cell_type": "code",
      "metadata": {
        "colab": {
          "base_uri": "https://localhost:8080/",
          "height": 37
        },
        "id": "IYF3D4l9H19M",
        "outputId": "5658538a-ab8f-4ffc-aca9-cc035ffbda5b"
      },
      "source": [
        "diff(f, x, x, x, x)"
      ],
      "execution_count": 118,
      "outputs": [
        {
          "output_type": "execute_result",
          "data": {
            "text/latex": "$\\displaystyle 0$",
            "text/plain": [
              "0"
            ]
          },
          "metadata": {},
          "execution_count": 118
        }
      ]
    },
    {
      "cell_type": "code",
      "metadata": {
        "id": "D0Uf73w4IZHh"
      },
      "source": [
        ""
      ],
      "execution_count": null,
      "outputs": []
    },
    {
      "cell_type": "code",
      "metadata": {
        "id": "8uNSTcoAIZaS"
      },
      "source": [
        "import seaborn as sns"
      ],
      "execution_count": 119,
      "outputs": []
    },
    {
      "cell_type": "code",
      "metadata": {
        "id": "k9rxRk8UIZpX"
      },
      "source": [
        "anos = ['2015', '2016', '2017', '2018', '2019', '2020', '2021']\n",
        "valores = [20, 30, 20, 40, 60, 110, 70]"
      ],
      "execution_count": 126,
      "outputs": []
    },
    {
      "cell_type": "code",
      "metadata": {
        "colab": {
          "base_uri": "https://localhost:8080/",
          "height": 312
        },
        "id": "mu8GPBGBIaES",
        "outputId": "9ae3f44c-7a87-4ec7-ec0b-c92664a0001c"
      },
      "source": [
        "grafico = sns.lineplot(x = anos, y = valores)\n",
        "grafico.set_xlabel(\"Anos de Produção\")\n",
        "grafico.set_ylabel(\"Produção em milhares de Tonelada\")\n",
        "grafico.set_title(\"Meu Gráfico de Produção\")\n",
        "grafico.annotate(\"Exemplo de Anotação\", ('2015', 60))"
      ],
      "execution_count": 137,
      "outputs": [
        {
          "output_type": "execute_result",
          "data": {
            "text/plain": [
              "Text(2015, 60, 'Exemplo de Anotação')"
            ]
          },
          "metadata": {},
          "execution_count": 137
        },
        {
          "output_type": "display_data",
          "data": {
            "image/png": "[encoded data removed]",
            "text/plain": [
              "<Figure size 432x288 with 1 Axes>"
            ]
          },
          "metadata": {
            "needs_background": "light"
          }
        }
      ]
    },
    {
      "cell_type": "code",
      "metadata": {
        "colab": {
          "base_uri": "https://localhost:8080/",
          "height": 312
        },
        "id": "HQl9w_SDK-TS",
        "outputId": "4f4a6e21-1ddc-4320-9d1f-aed0160b9163"
      },
      "source": [
        "dispersao = sns.scatterplot(x = anos, y = valores)\n",
        "dispersao.set_xlabel(\"Anos de Produção\")\n",
        "dispersao.set_ylabel(\"Produção em milhares de Tonelada\")\n",
        "dispersao.set_title(\"Meu Gráfico de Produção\")\n",
        "dispersao.annotate(\"Exemplo de Anotação\", ('2015', 60))"
      ],
      "execution_count": 139,
      "outputs": [
        {
          "output_type": "execute_result",
          "data": {
            "text/plain": [
              "Text(2015, 60, 'Exemplo de Anotação')"
            ]
          },
          "metadata": {},
          "execution_count": 139
        },
        {
          "output_type": "display_data",
          "data": {
            "image/png": "[encoded data removed]",
            "text/plain": [
              "<Figure size 432x288 with 1 Axes>"
            ]
          },
          "metadata": {
            "needs_background": "light"
          }
        }
      ]
    },
    {
      "cell_type": "markdown",
      "metadata": {
        "id": "8nuk1s5hMhUb"
      },
      "source": [
        ""
      ]
    },
    {
      "cell_type": "code",
      "metadata": {
        "colab": {
          "base_uri": "https://localhost:8080/",
          "height": 592
        },
        "id": "jNVNFqX9Mhiq",
        "outputId": "e448f31b-2f70-44a7-e452-6a225446d659"
      },
      "source": [
        "import matplotlib.pyplot as plt\n",
        "\n",
        "plt.figure(figsize=[20,10])\n",
        "barra = sns.barplot(x = anos, y = valores)\n",
        "plt.show()"
      ],
      "execution_count": 152,
      "outputs": [
        {
          "output_type": "display_data",
          "data": {
            "image/png": "[encoded data removed]",
            "text/plain": [
              "<Figure size 1440x720 with 1 Axes>"
            ]
          },
          "metadata": {
            "needs_background": "light"
          }
        }
      ]
    },
    {
      "cell_type": "code",
      "metadata": {
        "colab": {
          "base_uri": "https://localhost:8080/",
          "height": 295
        },
        "id": "Dh67XAPbLWAw",
        "outputId": "5b66a1a2-ea18-4663-db1d-9ba91710ec65"
      },
      "source": [
        "barra = sns.barplot(x = anos, y = valores)\n",
        "# https://matplotlib.org/stable/api/axes_api.html#the-axes-class\n",
        "barra.set_title(\"Titulo\")\n",
        "barra.set_xlabel(\"Titulo X\")\n",
        "barra.set_ylabel(\"Titulo Y\")\n",
        "barra.set_frame_on(True)\n",
        "barra.grid()"
      ],
      "execution_count": 159,
      "outputs": [
        {
          "output_type": "display_data",
          "data": {
            "image/png": "[encoded data removed]",
            "text/plain": [
              "<Figure size 432x288 with 1 Axes>"
            ]
          },
          "metadata": {
            "needs_background": "light"
          }
        }
      ]
    },
    {
      "cell_type": "code",
      "metadata": {
        "colab": {
          "base_uri": "https://localhost:8080/"
        },
        "id": "Vrt7S2PILplK",
        "outputId": "0b12e192-6495-4ae2-b73b-eca103d2f23d"
      },
      "source": [
        "print(type(barra))"
      ],
      "execution_count": 141,
      "outputs": [
        {
          "output_type": "stream",
          "text": [
            "<class 'matplotlib.axes._subplots.AxesSubplot'>\n"
          ],
          "name": "stdout"
        }
      ]
    }
  ]
}